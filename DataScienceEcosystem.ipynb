{
 "cells": [
  {
   "cell_type": "markdown",
   "id": "49d638a7-1924-484c-8207-4d3a1d3004bc",
   "metadata": {},
   "source": [
    "# Data Science Tools and Ecosystem"
   ]
  },
  {
   "cell_type": "markdown",
   "id": "b5209fa1-43ae-45fe-93d1-6237360d0ef2",
   "metadata": {},
   "source": [
    "In this notebook, Data Science Tools and Ecosystem are summarized."
   ]
  },
  {
   "cell_type": "markdown",
   "id": "003cc31f-23fc-44f5-888d-bcb9411264b7",
   "metadata": {},
   "source": [
    "**Objectives**:\n",
    "\n",
    "- Learn about python libraries\n",
    "- Practice how to use github\n",
    "- Create a project in IBM Watson"
   ]
  },
  {
   "cell_type": "markdown",
   "id": "d01a3f5d-844c-4826-bf27-ff422d3c27d7",
   "metadata": {},
   "source": [
    "Some of the popular languages that Data Scientists use are:\n",
    "\n",
    "1. Python\n",
    "2. R\n",
    "3. Julia"
   ]
  },
  {
   "cell_type": "markdown",
   "id": "3e8f06c2-b845-477d-a297-3fdf9d76e2d3",
   "metadata": {},
   "source": [
    "Some of the commonly used libraries used by Data Scientists include:\n",
    "\n",
    "1. Tensorflow\n",
    "2. Pandas\n",
    "3. Matplotlib"
   ]
  },
  {
   "cell_type": "markdown",
   "id": "3be30adc-1b36-4f1c-b2ba-4503e8fb5bec",
   "metadata": {},
   "source": [
    "| Data Science Tools |\n",
    "| -- |\n",
    "| Apache Spark |\n",
    "| Apache Hadoop |\n",
    "| RStudio |"
   ]
  },
  {
   "cell_type": "markdown",
   "id": "6b11ddb8-a838-4cae-9dd4-ff4c5393462a",
   "metadata": {},
   "source": [
    "____"
   ]
  },
  {
   "cell_type": "markdown",
   "id": "6f91977b-0e7c-4e8a-835e-1d3753ced2e6",
   "metadata": {},
   "source": [
    "### Below are a few examples of evaluating arithmetic expressions in Python"
   ]
  },
  {
   "cell_type": "code",
   "execution_count": 3,
   "id": "fc8d0cf3-9f54-4bbf-98a9-97f048974ffb",
   "metadata": {},
   "outputs": [
    {
     "data": {
      "text/plain": [
       "17"
      ]
     },
     "execution_count": 3,
     "metadata": {},
     "output_type": "execute_result"
    }
   ],
   "source": [
    "# This a simple arithmetic expression to mutiply then add integers\n",
    "(3*4)+5"
   ]
  },
  {
   "cell_type": "code",
   "execution_count": 4,
   "id": "d6163f8a-ed4f-4d6d-80e2-513cc9afbb08",
   "metadata": {},
   "outputs": [
    {
     "data": {
      "text/plain": [
       "33.333333333333336"
      ]
     },
     "execution_count": 4,
     "metadata": {},
     "output_type": "execute_result"
    }
   ],
   "source": [
    "# This will convert 200 minutes to hours by diving by 60\n",
    "200/6"
   ]
  },
  {
   "cell_type": "code",
   "execution_count": null,
   "id": "a2c81395-35de-44af-b48c-ce2c35f14200",
   "metadata": {},
   "outputs": [],
   "source": []
  },
  {
   "cell_type": "markdown",
   "id": "05b389c7-67d9-4995-a23e-aad7d257d761",
   "metadata": {},
   "source": [
    "## Author\n",
    "Niko Muhammad Iskandar"
   ]
  },
  {
   "cell_type": "code",
   "execution_count": null,
   "id": "6a2e069c-81db-4c52-a681-ba0f43d768fd",
   "metadata": {},
   "outputs": [],
   "source": []
  }
 ],
 "metadata": {
  "kernelspec": {
   "display_name": "Python",
   "language": "python",
   "name": "conda-env-python-py"
  },
  "language_info": {
   "codemirror_mode": {
    "name": "ipython",
    "version": 3
   },
   "file_extension": ".py",
   "mimetype": "text/x-python",
   "name": "python",
   "nbconvert_exporter": "python",
   "pygments_lexer": "ipython3",
   "version": "3.7.12"
  }
 },
 "nbformat": 4,
 "nbformat_minor": 5
}
